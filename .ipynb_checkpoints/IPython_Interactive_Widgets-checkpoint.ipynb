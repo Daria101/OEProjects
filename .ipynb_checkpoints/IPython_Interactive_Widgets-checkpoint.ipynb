{
 "cells": [
  {
   "cell_type": "code",
   "execution_count": 9,
   "metadata": {
    "collapsed": false
   },
   "outputs": [
    {
     "name": "stderr",
     "output_type": "stream",
     "text": [
      "/Users/dariabalatsky/anaconda/envs/py27/lib/python2.7/site-packages/ipykernel/pylab/config.py:66: DeprecationWarning: metadata {'config': True} was set from the constructor.  Metadata should be set using the .tag() method, e.g., Int().tag(key1='value1', key2='value2')\n",
      "  inline backend.\"\"\"\n",
      "/Users/dariabalatsky/anaconda/envs/py27/lib/python2.7/site-packages/ipykernel/pylab/config.py:71: DeprecationWarning: metadata {'config': True} was set from the constructor.  Metadata should be set using the .tag() method, e.g., Int().tag(key1='value1', key2='value2')\n",
      "  'retina', 'jpeg', 'svg', 'pdf'.\"\"\")\n",
      "/Users/dariabalatsky/anaconda/envs/py27/lib/python2.7/site-packages/ipykernel/pylab/config.py:85: DeprecationWarning: metadata {'config': True} was set from the constructor.  Metadata should be set using the .tag() method, e.g., Int().tag(key1='value1', key2='value2')\n",
      "  use `figure_formats` instead)\"\"\")\n",
      "/Users/dariabalatsky/anaconda/envs/py27/lib/python2.7/site-packages/ipykernel/pylab/config.py:95: DeprecationWarning: metadata {'config': True} was set from the constructor.  Metadata should be set using the .tag() method, e.g., Int().tag(key1='value1', key2='value2')\n",
      "  \"\"\"\n",
      "/Users/dariabalatsky/anaconda/envs/py27/lib/python2.7/site-packages/ipykernel/pylab/config.py:114: DeprecationWarning: metadata {'config': True} was set from the constructor.  Metadata should be set using the .tag() method, e.g., Int().tag(key1='value1', key2='value2')\n",
      "  \"\"\")\n",
      "/Users/dariabalatsky/anaconda/envs/py27/lib/python2.7/site-packages/ipykernel/pylab/config.py:44: DeprecationWarning: InlineBackend._config_changed is deprecated: use @observe and @unobserve instead.\n",
      "  def _config_changed(self, name, old, new):\n",
      "/Users/dariabalatsky/anaconda/envs/py27/lib/python2.7/site-packages/traitlets/traitlets.py:770: DeprecationWarning: A parent of InlineBackend._config_changed has adopted the new @observe(change) API\n",
      "  clsname, change_or_name), DeprecationWarning)\n",
      "/Users/dariabalatsky/anaconda/envs/py27/lib/python2.7/site-packages/IPython/core/formatters.py:98: DeprecationWarning: DisplayFormatter._formatters_default is deprecated: use @default decorator instead.\n",
      "  def _formatters_default(self):\n",
      "/Users/dariabalatsky/anaconda/envs/py27/lib/python2.7/site-packages/IPython/core/formatters.py:677: DeprecationWarning: PlainTextFormatter._deferred_printers_default is deprecated: use @default decorator instead.\n",
      "  def _deferred_printers_default(self):\n",
      "/Users/dariabalatsky/anaconda/envs/py27/lib/python2.7/site-packages/IPython/core/formatters.py:669: DeprecationWarning: PlainTextFormatter._singleton_printers_default is deprecated: use @default decorator instead.\n",
      "  def _singleton_printers_default(self):\n",
      "/Users/dariabalatsky/anaconda/envs/py27/lib/python2.7/site-packages/IPython/core/formatters.py:672: DeprecationWarning: PlainTextFormatter._type_printers_default is deprecated: use @default decorator instead.\n",
      "  def _type_printers_default(self):\n",
      "/Users/dariabalatsky/anaconda/envs/py27/lib/python2.7/site-packages/IPython/core/formatters.py:672: DeprecationWarning: PlainTextFormatter._type_printers_default is deprecated: use @default decorator instead.\n",
      "  def _type_printers_default(self):\n",
      "/Users/dariabalatsky/anaconda/envs/py27/lib/python2.7/site-packages/IPython/core/formatters.py:677: DeprecationWarning: PlainTextFormatter._deferred_printers_default is deprecated: use @default decorator instead.\n",
      "  def _deferred_printers_default(self):\n"
     ]
    }
   ],
   "source": [
    "from __future__ import print_function, division\n",
    "\n",
    "from pprint import pprint\n",
    "\n",
    "import numpy as np\n",
    "import pandas as pd\n",
    "import scipy as sp\n",
    "\n",
    "import matplotlib.pyplot as plt\n",
    "\n",
    "import seaborn\n",
    "\n",
    "from openeye.oechem import *\n",
    "from openeye.oegraphsim import *\n",
    "from openeye.oemolprop import *\n",
    "from openeye.oedepict import *\n",
    "\n",
    "import sys\n",
    "\n",
    "import mpld3\n",
    "%matplotlib inline\n",
    "mpld3.enable_notebook()\n",
    "seaborn.set_context(\"poster\")\n",
    "\n",
    "import oenotebook as oenb"
   ]
  },
  {
   "cell_type": "code",
   "execution_count": 10,
   "metadata": {
    "collapsed": false
   },
   "outputs": [],
   "source": [
    "from IPython.html.widgets import interact\n",
    "\n",
    "from IPython.display import Image, HTML, display"
   ]
  },
  {
   "cell_type": "code",
   "execution_count": 11,
   "metadata": {
    "collapsed": false
   },
   "outputs": [
    {
     "data": {
      "image/png": "[encoded data removed]",
      "text/html": [
       "\n",
       "\n",
       "<style>\n",
       "\n",
       "</style>\n",
       "\n",
       "<div id=\"fig_el1142346760166568123270490\"></div>\n",
       "<script>\n",
       "function mpld3_load_lib(url, callback){\n",
       "  var s = document.createElement('script');\n",
       "  s.src = url;\n",
       "  s.async = true;\n",
       "  s.onreadystatechange = s.onload = callback;\n",
       "  s.onerror = function(){console.warn(\"failed to load library \" + url);};\n",
       "  document.getElementsByTagName(\"head\")[0].appendChild(s);\n",
       "}\n",
       "\n",
       "if(typeof(mpld3) !== \"undefined\" && mpld3._mpld3IsLoaded){\n",
       "   // already loaded: just create the figure\n",
       "   !function(mpld3){\n",
       "       \n",
       "       mpld3.draw_figure(\"fig_el1142346760166568123270490\", {\"axes\": [{\"xlim\": [-0.5, 5.5], \"yscale\": \"linear\", \"axesbg\": \"#EAEAF2\", \"texts\": [], \"zoomable\": true, \"images\": [{\"coordinates\": \"data\", \"zorder\": 0, \"extent\": [-0.5, 5.5, 0.5, -0.5], \"alpha\": null, \"data\": \"iVBORw0KGgoAAAANSUhEUgAAAXUAAAA/CAYAAAAfSVh2AAAABHNCSVQICAgIfAhkiAAAARVJREFUeJzt1NEJAzEMBUEnd2UkP+q/x6SJA8N6poInBPuamd860Fyf3RO2mOu7e8IWc59591p+fpr37gEAPEfUAUJEHSBE1AFCRB0gRNQBQkQdIETUAUJEHSBE1AFCRB0gRNQBQkQdIETUAUJEHSBE1AFCRB0gRNQBQkQdIETUAUJEHSBE1AFCRB0gRNQBQkQdIETUAUJEHSBE1AFCRB0gRNQBQkQdIETUAUJEHSBE1AFCRB0gRNQBQkQdIETUAUJEHSBE1AFCRB0gRNQBQkQdIETUAUJEHSBE1AFCRB0gRNQBQkQdIETUAUJEHSBE1AFCRB0gRNQBQkQdIETUAUJEHSBE1AFCRB0gRNQBQkQdIETUAUL+uh0DLjJkBFwAAAAASUVORK5CYII=\", \"id\": \"el114234674243984\"}], \"xdomain\": [-0.5, 5.5], \"ylim\": [0.5, -0.5], \"paths\": [], \"sharey\": [], \"sharex\": [], \"axesbgalpha\": null, \"axes\": [{\"scale\": \"linear\", \"tickformat\": null, \"grid\": {\"color\": \"#FFFFFF\", \"alpha\": 1.0, \"dasharray\": \"10,0\", \"gridOn\": true}, \"fontsize\": 16.0, \"position\": \"bottom\", \"nticks\": 6, \"tickvalues\": [-0.5, 0.5, 1.5, 2.5, 3.5, 4.5]}, {\"scale\": \"linear\", \"tickformat\": null, \"grid\": {\"color\": \"#FFFFFF\", \"alpha\": 1.0, \"dasharray\": \"10,0\", \"gridOn\": true}, \"fontsize\": 16.0, \"position\": \"left\", \"nticks\": 2, \"tickvalues\": [-0.5, 0.5]}], \"lines\": [], \"markers\": [], \"id\": \"el114234675820624\", \"ydomain\": [0.5, -0.5], \"collections\": [], \"xscale\": \"linear\", \"bbox\": [0.125, 0.125, 0.77500000000000002, 0.77500000000000002]}], \"height\": 80.0, \"width\": 480.0, \"plugins\": [{\"type\": \"reset\"}, {\"enabled\": false, \"button\": true, \"type\": \"zoom\"}, {\"enabled\": false, \"button\": true, \"type\": \"boxzoom\"}], \"data\": {}, \"id\": \"el114234676016656\"});\n",
       "   }(mpld3);\n",
       "}else if(typeof define === \"function\" && define.amd){\n",
       "   // require.js is available: use it to load d3/mpld3\n",
       "   require.config({paths: {d3: \"https://mpld3.github.io/js/d3.v3.min\"}});\n",
       "   require([\"d3\"], function(d3){\n",
       "      window.d3 = d3;\n",
       "      mpld3_load_lib(\"https://mpld3.github.io/js/mpld3.v0.2.js\", function(){\n",
       "         \n",
       "         mpld3.draw_figure(\"fig_el1142346760166568123270490\", {\"axes\": [{\"xlim\": [-0.5, 5.5], \"yscale\": \"linear\", \"axesbg\": \"#EAEAF2\", \"texts\": [], \"zoomable\": true, \"images\": [{\"coordinates\": \"data\", \"zorder\": 0, \"extent\": [-0.5, 5.5, 0.5, -0.5], \"alpha\": null, \"data\": \"iVBORw0KGgoAAAANSUhEUgAAAXUAAAA/CAYAAAAfSVh2AAAABHNCSVQICAgIfAhkiAAAARVJREFUeJzt1NEJAzEMBUEnd2UkP+q/x6SJA8N6poInBPuamd860Fyf3RO2mOu7e8IWc59591p+fpr37gEAPEfUAUJEHSBE1AFCRB0gRNQBQkQdIETUAUJEHSBE1AFCRB0gRNQBQkQdIETUAUJEHSBE1AFCRB0gRNQBQkQdIETUAUJEHSBE1AFCRB0gRNQBQkQdIETUAUJEHSBE1AFCRB0gRNQBQkQdIETUAUJEHSBE1AFCRB0gRNQBQkQdIETUAUJEHSBE1AFCRB0gRNQBQkQdIETUAUJEHSBE1AFCRB0gRNQBQkQdIETUAUJEHSBE1AFCRB0gRNQBQkQdIETUAUJEHSBE1AFCRB0gRNQBQkQdIETUAUL+uh0DLjJkBFwAAAAASUVORK5CYII=\", \"id\": \"el114234674243984\"}], \"xdomain\": [-0.5, 5.5], \"ylim\": [0.5, -0.5], \"paths\": [], \"sharey\": [], \"sharex\": [], \"axesbgalpha\": null, \"axes\": [{\"scale\": \"linear\", \"tickformat\": null, \"grid\": {\"color\": \"#FFFFFF\", \"alpha\": 1.0, \"dasharray\": \"10,0\", \"gridOn\": true}, \"fontsize\": 16.0, \"position\": \"bottom\", \"nticks\": 6, \"tickvalues\": [-0.5, 0.5, 1.5, 2.5, 3.5, 4.5]}, {\"scale\": \"linear\", \"tickformat\": null, \"grid\": {\"color\": \"#FFFFFF\", \"alpha\": 1.0, \"dasharray\": \"10,0\", \"gridOn\": true}, \"fontsize\": 16.0, \"position\": \"left\", \"nticks\": 2, \"tickvalues\": [-0.5, 0.5]}], \"lines\": [], \"markers\": [], \"id\": \"el114234675820624\", \"ydomain\": [0.5, -0.5], \"collections\": [], \"xscale\": \"linear\", \"bbox\": [0.125, 0.125, 0.77500000000000002, 0.77500000000000002]}], \"height\": 80.0, \"width\": 480.0, \"plugins\": [{\"type\": \"reset\"}, {\"enabled\": false, \"button\": true, \"type\": \"zoom\"}, {\"enabled\": false, \"button\": true, \"type\": \"boxzoom\"}], \"data\": {}, \"id\": \"el114234676016656\"});\n",
       "      });\n",
       "    });\n",
       "}else{\n",
       "    // require.js not available: dynamically load d3 & mpld3\n",
       "    mpld3_load_lib(\"https://mpld3.github.io/js/d3.v3.min.js\", function(){\n",
       "         mpld3_load_lib(\"https://mpld3.github.io/js/mpld3.v0.2.js\", function(){\n",
       "                 \n",
       "                 mpld3.draw_figure(\"fig_el1142346760166568123270490\", {\"axes\": [{\"xlim\": [-0.5, 5.5], \"yscale\": \"linear\", \"axesbg\": \"#EAEAF2\", \"texts\": [], \"zoomable\": true, \"images\": [{\"coordinates\": \"data\", \"zorder\": 0, \"extent\": [-0.5, 5.5, 0.5, -0.5], \"alpha\": null, \"data\": \"iVBORw0KGgoAAAANSUhEUgAAAXUAAAA/CAYAAAAfSVh2AAAABHNCSVQICAgIfAhkiAAAARVJREFUeJzt1NEJAzEMBUEnd2UkP+q/x6SJA8N6poInBPuamd860Fyf3RO2mOu7e8IWc59591p+fpr37gEAPEfUAUJEHSBE1AFCRB0gRNQBQkQdIETUAUJEHSBE1AFCRB0gRNQBQkQdIETUAUJEHSBE1AFCRB0gRNQBQkQdIETUAUJEHSBE1AFCRB0gRNQBQkQdIETUAUJEHSBE1AFCRB0gRNQBQkQdIETUAUJEHSBE1AFCRB0gRNQBQkQdIETUAUJEHSBE1AFCRB0gRNQBQkQdIETUAUJEHSBE1AFCRB0gRNQBQkQdIETUAUJEHSBE1AFCRB0gRNQBQkQdIETUAUJEHSBE1AFCRB0gRNQBQkQdIETUAUL+uh0DLjJkBFwAAAAASUVORK5CYII=\", \"id\": \"el114234674243984\"}], \"xdomain\": [-0.5, 5.5], \"ylim\": [0.5, -0.5], \"paths\": [], \"sharey\": [], \"sharex\": [], \"axesbgalpha\": null, \"axes\": [{\"scale\": \"linear\", \"tickformat\": null, \"grid\": {\"color\": \"#FFFFFF\", \"alpha\": 1.0, \"dasharray\": \"10,0\", \"gridOn\": true}, \"fontsize\": 16.0, \"position\": \"bottom\", \"nticks\": 6, \"tickvalues\": [-0.5, 0.5, 1.5, 2.5, 3.5, 4.5]}, {\"scale\": \"linear\", \"tickformat\": null, \"grid\": {\"color\": \"#FFFFFF\", \"alpha\": 1.0, \"dasharray\": \"10,0\", \"gridOn\": true}, \"fontsize\": 16.0, \"position\": \"left\", \"nticks\": 2, \"tickvalues\": [-0.5, 0.5]}], \"lines\": [], \"markers\": [], \"id\": \"el114234675820624\", \"ydomain\": [0.5, -0.5], \"collections\": [], \"xscale\": \"linear\", \"bbox\": [0.125, 0.125, 0.77500000000000002, 0.77500000000000002]}], \"height\": 80.0, \"width\": 480.0, \"plugins\": [{\"type\": \"reset\"}, {\"enabled\": false, \"button\": true, \"type\": \"zoom\"}, {\"enabled\": false, \"button\": true, \"type\": \"boxzoom\"}], \"data\": {}, \"id\": \"el114234676016656\"});\n",
       "            })\n",
       "         });\n",
       "}\n",
       "</script>"
      ],
      "text/plain": [
       "<matplotlib.figure.Figure at 0x116b65a10>"
      ]
     },
     "metadata": {},
     "output_type": "display_data"
    }
   ],
   "source": [
    "@interact\n",
    "def choose_dark_palette(r=(0.,1),g=(0.,1.),b=(0.,1.),n=(3,18)):\n",
    "    pal = seaborn.dark_palette((r,g,b),n)\n",
    "    seaborn.palplot(pal)"
   ]
  },
  {
   "cell_type": "code",
   "execution_count": 12,
   "metadata": {
    "collapsed": false
   },
   "outputs": [
    {
     "data": {
      "image/png": "[encoded data removed]",
      "text/plain": [
       "<IPython.core.display.Image object>"
      ]
     },
     "metadata": {},
     "output_type": "display_data"
    }
   ],
   "source": [
    "@interact\n",
    "def choose_highlight_options(style=['Stick',\"BallAndStick\",\"Cogwheel\"],r=(0,255),g=(0,255),b=(0,255),stickWidth=(0.,8.),ballRadius=(0.,8.),lineWidth=(0.,8.)):\n",
    "    mol = OEGraphMol()\n",
    "    OESmilesToMol(mol, \"[H]/N=C(\\N)/SCCOc1c(c2ccccc2c(=O)o1)Cl\")\n",
    "    opts = OE2DMolDisplayOptions(400.0, 300.0, OEScale_AutoScale)\n",
    "    OEPrepareDepiction(mol)\n",
    "\n",
    "    image = OEImage(opts.GetWidth(), opts.GetHeight())\n",
    "\n",
    "    OEPrepareDepiction(mol)\n",
    "\n",
    "    subs = OESubSearch(\"[cH]c[c]\")\n",
    "    disp = OE2DMolDisplay(mol,opts)\n",
    "\n",
    "    stickWidthScale = 6.0\n",
    "    monochrome = True\n",
    "    innerContour = False\n",
    "    if style == \"Stick\":\n",
    "        highlight = OEHighlightByStick(OEColor(r,g,b), stickWidth, monochrome)\n",
    "    elif style == \"BallAndStick\":\n",
    "        highlight = OEHighlightByBallAndStick(OEColor(r,g,b), stickWidth, ballRadius, monochrome)\n",
    "    elif style == \"Cogwheel\":\n",
    "        highlight = OEHighlightByCogwheel(OEColor(r,g,b), lineWidth, stickWidth, ballRadius, innerContour, monochrome)\n",
    "    \n",
    "    unique = True\n",
    "    for match in subs.Match(mol, unique):\n",
    "        OEAddHighlighting(disp, highlight, match)\n",
    "\n",
    "    OERenderMolecule(image,disp)\n",
    "    \n",
    "    OEDrawBorder(image, OEPen(OELightGrey, OELightGrey, OEFill_Off, 2.0))\n",
    "    \n",
    "    display(Image(OEWriteImageToString(\"png\", image)))"
   ]
  },
  {
   "cell_type": "code",
   "execution_count": null,
   "metadata": {
    "collapsed": false
   },
   "outputs": [],
   "source": []
  },
  {
   "cell_type": "code",
   "execution_count": null,
   "metadata": {
    "collapsed": false
   },
   "outputs": [],
   "source": []
  }
 ],
 "metadata": {
  "kernelspec": {
   "display_name": "Python 2",
   "language": "python",
   "name": "python2"
  },
  "language_info": {
   "codemirror_mode": {
    "name": "ipython",
    "version": 2
   },
   "file_extension": ".py",
   "mimetype": "text/x-python",
   "name": "python",
   "nbconvert_exporter": "python",
   "pygments_lexer": "ipython2",
   "version": "2.7.11"
  },
  "widgets": {
   "state": {
    "03be3dd3ed7046918a8ecd3026b6e254": {
     "views": []
    },
    "0752bc56df2447e4bda00371891f0365": {
     "views": []
    },
    "091b5514d365430e9c7b9067c84b76ba": {
     "views": []
    },
    "0c39ee10f67f4e43a12835a531c5690b": {
     "views": []
    },
    "0c45237a76274e8b8d64b43c7f2689ad": {
     "views": []
    },
    "0d4ab7aabd384ebfb185fdd05b5316db": {
     "views": []
    },
    "100422ca297e4edbab14fad9a0a80eae": {
     "views": []
    },
    "141b7b952f70453d9cff1ec4835b2c5f": {
     "views": []
    },
    "16aab1a0c4cd464299305876484ff50e": {
     "views": []
    },
    "1c227e22919042898be3d6d303ee8705": {
     "views": []
    },
    "21e4b27da54f42f29d0340d30e950416": {
     "views": []
    },
    "23af4586262748a99d32dfbe93b06637": {
     "views": []
    },
    "2ff74b2726d54e9098a17b09dad91595": {
     "views": [
      {
       "cell_index": 2
      }
     ]
    },
    "32a8af13108d4020afe437114db0bb13": {
     "views": []
    },
    "337bd717130341fb9107990736383dc0": {
     "views": []
    },
    "38e3ab6a13db43518429d8b1ff7a5cca": {
     "views": []
    },
    "476fdf8c07d84f6c937e696e1f720438": {
     "views": [
      {
       "cell_index": 3
      }
     ]
    },
    "5d88d2a8909641139546191b0ad0c2a0": {
     "views": []
    },
    "5e8da9f9ed13427e90a2965d9e7fface": {
     "views": []
    },
    "622ec2cbfae84edb8aa18a2274b0086a": {
     "views": []
    },
    "6b14d2d054cd406ca599442ed6a97c55": {
     "views": []
    },
    "74690612acfc4fcea73ddc52e6fae947": {
     "views": []
    },
    "74a36967614e44599fdb104a44dab2e3": {
     "views": []
    },
    "798c4abdd0824f65a42a8bf9ef4a55b0": {
     "views": []
    },
    "7a49f3c06cb54c54b1666fabc7ab8777": {
     "views": []
    },
    "7adff828a00948ba8b249edc70866cc3": {
     "views": []
    },
    "7fb14efa205a42de9b180e355b927453": {
     "views": []
    },
    "98c1091b97bb476f9c430544194dc91d": {
     "views": []
    },
    "a09e2588295f495b9de3094046332ae9": {
     "views": []
    },
    "a54cf4eedd3244069b67ccaef2e71f66": {
     "views": []
    },
    "a5be5775d23b4259a1456123b90e84c4": {
     "views": []
    },
    "a602e93d6460469a95eb6b1d8bc0be3b": {
     "views": []
    },
    "a70f3167e5f04c46bff6613717f8a616": {
     "views": []
    },
    "abc0724c6c504f5abeae0bd46943d531": {
     "views": []
    },
    "abd0f55e55334dcda2e5962efa7dde2e": {
     "views": []
    },
    "ad66a66488e549be9927a4455fb6d14d": {
     "views": []
    },
    "ae065c38f18c40c1a7707f05be74c521": {
     "views": []
    },
    "bfd85bda29ea4518bcc3d1d2b08d0887": {
     "views": []
    },
    "c37ce0d6b22c4397b09028def3172170": {
     "views": []
    },
    "c7b26d23ef104c4d8fd8c4146639025e": {
     "views": []
    },
    "ca3a075185034f3a9e6af5dcf46b9bc0": {
     "views": []
    },
    "ce85a82168b142e1bf4626ea9f94b573": {
     "views": []
    },
    "d124f320b83f40a5bc3ce2ab4c5c9d74": {
     "views": []
    },
    "d36e4d627d39490c8c7340de0ad777d0": {
     "views": []
    },
    "d7677f4eb21d4bf899c38b25c3b687dd": {
     "views": []
    },
    "dcf2f41409a947f99996aea2100c3bb4": {
     "views": []
    },
    "e412a651e77d4ad6b12f9d97efdcfeca": {
     "views": []
    },
    "e5283afdba96486ca50b4d38125e8a66": {
     "views": []
    },
    "ede3b5a75d5348998171c5044509a443": {
     "views": []
    },
    "efea31dac5ca47d19584cdff99b593e4": {
     "views": []
    },
    "fa1ece4260924f86b43f30e74fd0c479": {
     "views": []
    },
    "fdc90fd2bfa546fdaf1792eaad950660": {
     "views": []
    }
   },
   "version": "1.1.2"
  }
 },
 "nbformat": 4,
 "nbformat_minor": 0
}
