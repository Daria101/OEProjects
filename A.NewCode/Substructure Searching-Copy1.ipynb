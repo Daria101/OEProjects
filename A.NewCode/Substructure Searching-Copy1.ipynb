{
 "cells": [
  {
   "cell_type": "code",
   "execution_count": 1,
   "metadata": {
    "collapsed": false
   },
   "outputs": [
    {
     "ename": "SyntaxError",
     "evalue": "invalid syntax (<ipython-input-1-edb69409c2c0>, line 5)",
     "output_type": "error",
     "traceback": [
      "\u001b[0;36m  File \u001b[0;32m\"<ipython-input-1-edb69409c2c0>\"\u001b[0;36m, line \u001b[0;32m5\u001b[0m\n\u001b[0;31m    widgets.\u001b[0m\n\u001b[0m            ^\u001b[0m\n\u001b[0;31mSyntaxError\u001b[0m\u001b[0;31m:\u001b[0m invalid syntax\n"
     ]
    }
   ],
   "source": [
    "from IPython.display import display\n",
    "print (\"type in molecule in smiles format\")\n",
    "text = widgets.Text()\n",
    "display(text)\n",
    "widgets.\n",
    "def handle_text(textin):\n",
    "    smile = str(textin)\n",
    "    return smile\n",
    "    print (\"The molecule input is: \" + smile)\n",
    "text.on_submit(handle_text)"
   ]
  },
  {
   "cell_type": "code",
   "execution_count": 48,
   "metadata": {
    "collapsed": false
   },
   "outputs": [
    {
     "name": "stdout",
     "output_type": "stream",
     "text": [
      "Please input molecule in smile format\n"
     ]
    }
   ],
   "source": [
    "#ifname = \"./targets.ism\"\n",
    "#smile = \"COC\"\n",
    "from substructure_search import *\n",
    "substructure_search.ReturnSimilarities(ifname,smile)"
   ]
  },
  {
   "cell_type": "code",
   "execution_count": null,
   "metadata": {
    "collapsed": true
   },
   "outputs": [],
   "source": []
  }
 ],
 "metadata": {
  "kernelspec": {
   "display_name": "Python 3",
   "language": "python",
   "name": "python3"
  },
  "language_info": {
   "codemirror_mode": {
    "name": "ipython",
    "version": 3
   },
   "file_extension": ".py",
   "mimetype": "text/x-python",
   "name": "python",
   "nbconvert_exporter": "python",
   "pygments_lexer": "ipython3",
   "version": "3.4.4"
  },
  "widgets": {
   "state": {},
   "version": "1.1.2"
  }
 },
 "nbformat": 4,
 "nbformat_minor": 0
}
