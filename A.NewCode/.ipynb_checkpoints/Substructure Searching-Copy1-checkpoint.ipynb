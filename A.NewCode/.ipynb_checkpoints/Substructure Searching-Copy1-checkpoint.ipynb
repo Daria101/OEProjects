{
 "cells": [
  {
   "cell_type": "code",
   "execution_count": 52,
   "metadata": {
    "collapsed": false
   },
   "outputs": [
    {
     "name": "stdout",
     "output_type": "stream",
     "text": [
      "type in molecule in smiles format\n"
     ]
    }
   ],
   "source": [
    "from IPython.display import display\n",
    "print (\"type in molecule in smiles format\")\n",
    "text = widgets.Text()\n",
    "display(text)\n",
    "widgets.\n",
    "def handle_text(textin):\n",
    "    smile = str(textin)\n",
    "    return smile\n",
    "    print (\"The molecule input is: \" + smile)\n",
    "text.on_submit(handle_text)"
   ]
  },
  {
   "cell_type": "code",
   "execution_count": 48,
   "metadata": {
    "collapsed": false
   },
   "outputs": [
    {
     "name": "stdout",
     "output_type": "stream",
     "text": [
      "Please input molecule in smile format\n"
     ]
    }
   ],
   "source": [
    "#ifname = \"./targets.ism\"\n",
    "#smile = \"COC\"\n",
    "from substructure_search import *\n",
    "substructure_search.ReturnSimilarities(ifname,smile)"
   ]
  },
  {
   "cell_type": "code",
   "execution_count": null,
   "metadata": {
    "collapsed": true
   },
   "outputs": [],
   "source": []
  }
 ],
 "metadata": {
  "kernelspec": {
   "display_name": "Python 3",
   "language": "python",
   "name": "python3"
  },
  "language_info": {
   "codemirror_mode": {
    "name": "ipython",
    "version": 3
   },
   "file_extension": ".py",
   "mimetype": "text/x-python",
   "name": "python",
   "nbconvert_exporter": "python",
   "pygments_lexer": "ipython3",
   "version": "3.4.4"
  },
  "widgets": {
   "state": {
    "02688b9db84b487baca465cff2912f70": {
     "views": []
    },
    "0bd8098dd1e04fe4b55c0804076a1922": {
     "views": []
    },
    "0d24b40c6a05408d9ddf6ad8b604e39b": {
     "views": []
    },
    "1df765357ced42ca92448bd4f81b2f4e": {
     "views": []
    },
    "204c4cdb3e9a48ebb1acfa9b2dab3966": {
     "views": []
    },
    "2489a9969c89499c9ce5a59315e097aa": {
     "views": []
    },
    "3997223462a443d6bb9c3f2abbaeef22": {
     "views": []
    },
    "3c57eafc29394824985ac07bc0939e6c": {
     "views": []
    },
    "3e8524b3afb246cd82b170eda7482227": {
     "views": []
    },
    "47e5129659e6447abcd8a1c324a21207": {
     "views": []
    },
    "499fa48692174ed89073d3b82355f93e": {
     "views": []
    },
    "4f17c91710e647c0876a22b439a911a0": {
     "views": [
      {
       "cell_index": 0
      }
     ]
    },
    "6abeaec6591c4bd7b4fa303f9a1221e4": {
     "views": []
    },
    "6b5d659a0c1c43a59e6bfb476c20242e": {
     "views": []
    },
    "75e16c00a6ce4b78a25c8768bc36ec1e": {
     "views": []
    },
    "85223140eba048a1be1ef8745794aada": {
     "views": []
    },
    "85503b22a60247db8595065a864498f1": {
     "views": []
    },
    "8552bcb5ec4c4b568cd5fd7720ba71ac": {
     "views": []
    },
    "8cfe651614464b75aee735c296f5b416": {
     "views": []
    },
    "8e29a0c7387b489eb351d13cedbc2bc1": {
     "views": []
    },
    "97dbfb331d97461bbbcd11280148ce56": {
     "views": []
    },
    "999d93fb18f740f293b21136fe406e0e": {
     "views": []
    },
    "a423e03c6cb9437ea2b3de79b2a9f5ab": {
     "views": []
    },
    "a7346def6a3d485fb4423c252e784a93": {
     "views": []
    },
    "ab7a26f97ab548f68c825280e704e645": {
     "views": []
    },
    "abe02b7237f34c9c847dd881c9c041d3": {
     "views": []
    },
    "b1f2d0d7e72543c3bd2d513849d732a4": {
     "views": []
    },
    "b4b87af3bf694faf8b78f286a7a17665": {
     "views": []
    },
    "bb0975caff6447d897d3c4bb81b07e4e": {
     "views": []
    },
    "be9b6a4b77cc4c249bd9a4b6be44b9b6": {
     "views": []
    },
    "bf25974ff9cb4aafa3b69504662a6cfd": {
     "views": []
    },
    "c1663b9018f84ea8b1cfe504ef137016": {
     "views": []
    },
    "c2ffe5e2ec194a8e823cb067ce45637e": {
     "views": []
    },
    "c443a8304cda48b3ba0380b02ec14b43": {
     "views": []
    },
    "c63e064190b04ce083429f959b2597a6": {
     "views": []
    },
    "c88a7f33ff914b72a35c83a7012c6f03": {
     "views": []
    },
    "d134f57d178d428c8030ad5b34cd69cd": {
     "views": []
    },
    "d42f1bd7bfce4949a7ce6b6600713820": {
     "views": []
    },
    "dc52cf9a52b342cd8000f91a2090cfdd": {
     "views": []
    },
    "f23c7cf538654126b134c397a38b0c76": {
     "views": []
    },
    "f5713f1983d2428aac37a00f39e789ea": {
     "views": []
    },
    "f7937a1e31ee44c798e08b23c3df5de6": {
     "views": []
    },
    "f8d32f97c47240aea94adaf3da1ecb31": {
     "views": []
    },
    "f93162ab781c4221aa45f8fc13b680cd": {
     "views": []
    }
   },
   "version": "1.1.1"
  }
 },
 "nbformat": 4,
 "nbformat_minor": 0
}
