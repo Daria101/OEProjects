{
 "cells": [
  {
   "cell_type": "markdown",
   "metadata": {},
   "source": [
    "Generating fingerprints for the user input file"
   ]
  },
  {
   "cell_type": "code",
   "execution_count": null,
   "metadata": {
    "collapsed": true
   },
   "outputs": [],
   "source": [
    "#Reading the user input file and then making a \n",
    "from openeye.oechem import *\n",
    "from openeye.oegraphsim import *\n",
    "import oenotebook as oenb\n",
    "import os\n",
    "ifname = \"./targets.ism\" \n",
    "ofname = \"./drugsfp.oeb\"\n",
    "\n",
    "\n",
    "ifs = oemolistream()\n",
    "if not ifs.open(ifname):\n",
    "    OEThrow.Fatal(\"Cannot open input file!\")\n",
    "ofs = oemolostream()\n",
    "if not ofs.open(ofname):\n",
    "    OEThrow.Fatal(\"Cannot open output file!\")\n",
    "if ofs.GetFormat() != OEFormat_OEB:\n",
    "    OEThrow.Fatal(\"%s output file has to be an OEBinary file!\" % ofname)"
   ]
  },
  {
   "cell_type": "code",
   "execution_count": null,
   "metadata": {
    "collapsed": false,
    "scrolled": true
   },
   "outputs": [],
   "source": [
    "mol = OEGraphMol()\n",
    "OEParseSmiles(mol, \"c1ccccc1cc\")\n",
    "oenb.draw_mol(mol)"
   ]
  },
  {
   "cell_type": "code",
   "execution_count": null,
   "metadata": {
    "collapsed": true
   },
   "outputs": [],
   "source": [
    "def GenerateFingerPrints(ifs, ofs):\n",
    "\n",
    "    dots = OEDots(100000, 1000, \"molecules\")\n",
    "\n",
    "    fptypes = [(OEFPType_Circular, \"circular\"),\n",
    "               (OEFPType_Tree, \"tree\"),\n",
    "               (OEFPType_Path, \"path\"),\n",
    "               (OEFPType_MACCS166, \"maccs\")]\n",
    "\n",
    "    fp = OEFingerPrint()\n",
    "    for mol in ifs.GetOEGraphMols():\n",
    "        dots.Update()\n",
    "        for (fptype, fptag) in fptypes:\n",
    "            OEMakeFP(fp, mol, fptype)\n",
    "            mol.SetData(fptag, fp)\n",
    "        OEWriteMolecule(ofs, mol)\n",
    "\n",
    "    dots.Total()"
   ]
  },
  {
   "cell_type": "code",
   "execution_count": null,
   "metadata": {
    "collapsed": false
   },
   "outputs": [],
   "source": [
    "GenerateFingerPrints(ifs, ofs)\n",
    "ofs.close()"
   ]
  },
  {
   "cell_type": "code",
   "execution_count": null,
   "metadata": {
    "collapsed": true
   },
   "outputs": [],
   "source": [
    "def CreateMolDatabaseIndexFile(ifname):\n",
    "    idxfname = OEGetMolDatabaseIdxFileName(ifname)\n",
    "\n",
    "    if os.path.exists(idxfname):\n",
    "        OEThrow.Warning(\"%s index file already exists\" % idxfname)\n",
    "    elif not OECreateMolDatabaseIdx(ifname):\n",
    "        OEThrow.Warning(\"Unable to create %s molecule index file\", idxfname)"
   ]
  },
  {
   "cell_type": "code",
   "execution_count": null,
   "metadata": {
    "collapsed": false
   },
   "outputs": [],
   "source": [
    "CreateMolDatabaseIndexFile(ifname)"
   ]
  },
  {
   "cell_type": "code",
   "execution_count": null,
   "metadata": {
    "collapsed": true
   },
   "outputs": [],
   "source": [
    "def GenerateFingerPrint(queryfile):\n",
    "\n",
    "    dots = OEDots(100000, 1000, \"molecules\")\n",
    "\n",
    "    fptypes = [(OEFPType_Circular, \"circular\"),\n",
    "               (OEFPType_Tree, \"tree\"),\n",
    "               (OEFPType_Path, \"path\"),\n",
    "               (OEFPType_MACCS166, \"maccs\")]\n",
    "\n",
    "    fp = OEFingerPrint()\n",
    "    for mol in qds.GetOEGraphMols():\n",
    "        dots.Update()\n",
    "        for (fptype, fptag) in fptypes:\n",
    "            OEMakeFP(fp, mol, fptype)\n",
    "            mol.SetData(fptag, fp)\n",
    "        OEWriteMolecule(\"./queryfp.oeb\", mol)\n",
    "\n",
    "    dots.Total()"
   ]
  },
  {
   "cell_type": "code",
   "execution_count": null,
   "metadata": {
    "collapsed": false
   },
   "outputs": [],
   "source": [
    "ifs.close()\n",
    "ofs.close()\n",
    "qfs = oemolostream()\n",
    "qname = \"./querymol.ism\"\n",
    "qfs.open(qname)\n",
    "OEWriteMolecule(qname,mol)\n",
    "\n",
    "#GenerateFingerPrint(mol)"
   ]
  }
 ],
 "metadata": {
  "kernelspec": {
   "display_name": "Python 2",
   "language": "python",
   "name": "python2"
  },
  "language_info": {
   "codemirror_mode": {
    "name": "ipython",
    "version": 2
   },
   "file_extension": ".py",
   "mimetype": "text/x-python",
   "name": "python",
   "nbconvert_exporter": "python",
   "pygments_lexer": "ipython2",
   "version": "2.7.11"
  }
 },
 "nbformat": 4,
 "nbformat_minor": 0
}
