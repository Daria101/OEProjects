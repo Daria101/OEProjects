{
 "cells": [
  {
   "cell_type": "code",
   "execution_count": 3,
   "metadata": {
    "collapsed": true
   },
   "outputs": [],
   "source": [
    "from openeye.oechem import *\n",
    "from openeye.oedepict import *\n",
    "import oenotebook as oenb\n",
    "from IPython.display import display\n",
    "import os\n",
    "smile = \"c1ccccc1\"\n",
    "file = \"./targets.ism\""
   ]
  },
  {
   "cell_type": "code",
   "execution_count": 4,
   "metadata": {
    "collapsed": false
   },
   "outputs": [
    {
     "name": "stdout",
     "output_type": "stream",
     "text": [
      "Query molecule:\n"
     ]
    },
    {
     "data": {
      "image/png": "[encoded data removed]",
      "text/plain": [
       "<IPython.core.display.Image object>"
      ]
     },
     "metadata": {},
     "output_type": "display_data"
    }
   ],
   "source": [
    "qmol = OEGraphMol()\n",
    "OEParseSmiles(qmol, smile)\n",
    "print (\"Query molecule:\")\n",
    "display(oenb.draw_mol(qmol))\n",
    "ss = OESubSearch(smile)\n",
    "data = oenb.read_file_to_dataframe(file)\n",
    "data[\"Sub Structure Search Hits\"] = data.Molecule.apply(ss.Match)"
   ]
  },
  {
   "cell_type": "code",
   "execution_count": 5,
   "metadata": {
    "collapsed": false,
    "scrolled": true
   },
   "outputs": [
    {
     "data": {
      "text/html": [
       "<div>\n",
       "<table border=\"1\" class=\"dataframe\">\n",
       "  <thead>\n",
       "    <tr style=\"text-align: right;\">\n",
       "      <th></th>\n",
       "      <th>Molecule</th>\n",
       "      <th>Sub Structure Search Hits</th>\n",
       "    </tr>\n",
       "  </thead>\n",
       "  <tbody>\n",
       "    <tr>\n",
       "      <th>0</th>\n",
       "      <td>&lt;openeye.oechem.OEMol; proxy of &lt;Swig Object o...</td>\n",
       "      <td>&lt;openeye.oechem.OEMatchBaseIter; proxy of &lt;Swi...</td>\n",
       "    </tr>\n",
       "    <tr>\n",
       "      <th>1</th>\n",
       "      <td>&lt;openeye.oechem.OEMol; proxy of &lt;Swig Object o...</td>\n",
       "      <td>&lt;openeye.oechem.OEMatchBaseIter; proxy of &lt;Swi...</td>\n",
       "    </tr>\n",
       "    <tr>\n",
       "      <th>2</th>\n",
       "      <td>&lt;openeye.oechem.OEMol; proxy of &lt;Swig Object o...</td>\n",
       "      <td>&lt;openeye.oechem.OEMatchBaseIter; proxy of &lt;Swi...</td>\n",
       "    </tr>\n",
       "    <tr>\n",
       "      <th>3</th>\n",
       "      <td>&lt;openeye.oechem.OEMol; proxy of &lt;Swig Object o...</td>\n",
       "      <td>&lt;openeye.oechem.OEMatchBaseIter; proxy of &lt;Swi...</td>\n",
       "    </tr>\n",
       "    <tr>\n",
       "      <th>4</th>\n",
       "      <td>&lt;openeye.oechem.OEMol; proxy of &lt;Swig Object o...</td>\n",
       "      <td>&lt;openeye.oechem.OEMatchBaseIter; proxy of &lt;Swi...</td>\n",
       "    </tr>\n",
       "    <tr>\n",
       "      <th>5</th>\n",
       "      <td>&lt;openeye.oechem.OEMol; proxy of &lt;Swig Object o...</td>\n",
       "      <td>&lt;openeye.oechem.OEMatchBaseIter; proxy of &lt;Swi...</td>\n",
       "    </tr>\n",
       "    <tr>\n",
       "      <th>6</th>\n",
       "      <td>&lt;openeye.oechem.OEMol; proxy of &lt;Swig Object o...</td>\n",
       "      <td>&lt;openeye.oechem.OEMatchBaseIter; proxy of &lt;Swi...</td>\n",
       "    </tr>\n",
       "    <tr>\n",
       "      <th>7</th>\n",
       "      <td>&lt;openeye.oechem.OEMol; proxy of &lt;Swig Object o...</td>\n",
       "      <td>&lt;openeye.oechem.OEMatchBaseIter; proxy of &lt;Swi...</td>\n",
       "    </tr>\n",
       "    <tr>\n",
       "      <th>8</th>\n",
       "      <td>&lt;openeye.oechem.OEMol; proxy of &lt;Swig Object o...</td>\n",
       "      <td>&lt;openeye.oechem.OEMatchBaseIter; proxy of &lt;Swi...</td>\n",
       "    </tr>\n",
       "    <tr>\n",
       "      <th>9</th>\n",
       "      <td>&lt;openeye.oechem.OEMol; proxy of &lt;Swig Object o...</td>\n",
       "      <td>&lt;openeye.oechem.OEMatchBaseIter; proxy of &lt;Swi...</td>\n",
       "    </tr>\n",
       "    <tr>\n",
       "      <th>10</th>\n",
       "      <td>&lt;openeye.oechem.OEMol; proxy of &lt;Swig Object o...</td>\n",
       "      <td>&lt;openeye.oechem.OEMatchBaseIter; proxy of &lt;Swi...</td>\n",
       "    </tr>\n",
       "    <tr>\n",
       "      <th>11</th>\n",
       "      <td>&lt;openeye.oechem.OEMol; proxy of &lt;Swig Object o...</td>\n",
       "      <td>&lt;openeye.oechem.OEMatchBaseIter; proxy of &lt;Swi...</td>\n",
       "    </tr>\n",
       "  </tbody>\n",
       "</table>\n",
       "</div>"
      ],
      "text/plain": [
       "                                             Molecule  \\\n",
       "0   <openeye.oechem.OEMol; proxy of <Swig Object o...   \n",
       "1   <openeye.oechem.OEMol; proxy of <Swig Object o...   \n",
       "2   <openeye.oechem.OEMol; proxy of <Swig Object o...   \n",
       "3   <openeye.oechem.OEMol; proxy of <Swig Object o...   \n",
       "4   <openeye.oechem.OEMol; proxy of <Swig Object o...   \n",
       "5   <openeye.oechem.OEMol; proxy of <Swig Object o...   \n",
       "6   <openeye.oechem.OEMol; proxy of <Swig Object o...   \n",
       "7   <openeye.oechem.OEMol; proxy of <Swig Object o...   \n",
       "8   <openeye.oechem.OEMol; proxy of <Swig Object o...   \n",
       "9   <openeye.oechem.OEMol; proxy of <Swig Object o...   \n",
       "10  <openeye.oechem.OEMol; proxy of <Swig Object o...   \n",
       "11  <openeye.oechem.OEMol; proxy of <Swig Object o...   \n",
       "\n",
       "                            Sub Structure Search Hits  \n",
       "0   <openeye.oechem.OEMatchBaseIter; proxy of <Swi...  \n",
       "1   <openeye.oechem.OEMatchBaseIter; proxy of <Swi...  \n",
       "2   <openeye.oechem.OEMatchBaseIter; proxy of <Swi...  \n",
       "3   <openeye.oechem.OEMatchBaseIter; proxy of <Swi...  \n",
       "4   <openeye.oechem.OEMatchBaseIter; proxy of <Swi...  \n",
       "5   <openeye.oechem.OEMatchBaseIter; proxy of <Swi...  \n",
       "6   <openeye.oechem.OEMatchBaseIter; proxy of <Swi...  \n",
       "7   <openeye.oechem.OEMatchBaseIter; proxy of <Swi...  \n",
       "8   <openeye.oechem.OEMatchBaseIter; proxy of <Swi...  \n",
       "9   <openeye.oechem.OEMatchBaseIter; proxy of <Swi...  \n",
       "10  <openeye.oechem.OEMatchBaseIter; proxy of <Swi...  \n",
       "11  <openeye.oechem.OEMatchBaseIter; proxy of <Swi...  "
      ]
     },
     "execution_count": 5,
     "metadata": {},
     "output_type": "execute_result"
    }
   ],
   "source": [
    "data "
   ]
  },
  {
   "cell_type": "code",
   "execution_count": 6,
   "metadata": {
    "collapsed": false
   },
   "outputs": [
    {
     "data": {
      "text/html": [
       "<div>\n",
       "<table border=\"1\" class=\"dataframe\">\n",
       "  <thead>\n",
       "    <tr style=\"text-align: right;\">\n",
       "      <th></th>\n",
       "      <th>Sub Structure Search Hits</th>\n",
       "    </tr>\n",
       "  </thead>\n",
       "  <tbody>\n",
       "    <tr>\n",
       "      <th>0</th>\n",
       "      <td>&lt;openeye.oechem.OEMatchBaseIter; proxy of &lt;Swi...</td>\n",
       "    </tr>\n",
       "    <tr>\n",
       "      <th>1</th>\n",
       "      <td>&lt;openeye.oechem.OEMatchBaseIter; proxy of &lt;Swi...</td>\n",
       "    </tr>\n",
       "    <tr>\n",
       "      <th>2</th>\n",
       "      <td>&lt;openeye.oechem.OEMatchBaseIter; proxy of &lt;Swi...</td>\n",
       "    </tr>\n",
       "    <tr>\n",
       "      <th>3</th>\n",
       "      <td>&lt;openeye.oechem.OEMatchBaseIter; proxy of &lt;Swi...</td>\n",
       "    </tr>\n",
       "    <tr>\n",
       "      <th>4</th>\n",
       "      <td>&lt;openeye.oechem.OEMatchBaseIter; proxy of &lt;Swi...</td>\n",
       "    </tr>\n",
       "    <tr>\n",
       "      <th>5</th>\n",
       "      <td>&lt;openeye.oechem.OEMatchBaseIter; proxy of &lt;Swi...</td>\n",
       "    </tr>\n",
       "    <tr>\n",
       "      <th>6</th>\n",
       "      <td>&lt;openeye.oechem.OEMatchBaseIter; proxy of &lt;Swi...</td>\n",
       "    </tr>\n",
       "    <tr>\n",
       "      <th>7</th>\n",
       "      <td>&lt;openeye.oechem.OEMatchBaseIter; proxy of &lt;Swi...</td>\n",
       "    </tr>\n",
       "    <tr>\n",
       "      <th>8</th>\n",
       "      <td>&lt;openeye.oechem.OEMatchBaseIter; proxy of &lt;Swi...</td>\n",
       "    </tr>\n",
       "    <tr>\n",
       "      <th>9</th>\n",
       "      <td>&lt;openeye.oechem.OEMatchBaseIter; proxy of &lt;Swi...</td>\n",
       "    </tr>\n",
       "    <tr>\n",
       "      <th>10</th>\n",
       "      <td>&lt;openeye.oechem.OEMatchBaseIter; proxy of &lt;Swi...</td>\n",
       "    </tr>\n",
       "    <tr>\n",
       "      <th>11</th>\n",
       "      <td>&lt;openeye.oechem.OEMatchBaseIter; proxy of &lt;Swi...</td>\n",
       "    </tr>\n",
       "  </tbody>\n",
       "</table>\n",
       "</div>"
      ],
      "text/plain": [
       "                            Sub Structure Search Hits\n",
       "0   <openeye.oechem.OEMatchBaseIter; proxy of <Swi...\n",
       "1   <openeye.oechem.OEMatchBaseIter; proxy of <Swi...\n",
       "2   <openeye.oechem.OEMatchBaseIter; proxy of <Swi...\n",
       "3   <openeye.oechem.OEMatchBaseIter; proxy of <Swi...\n",
       "4   <openeye.oechem.OEMatchBaseIter; proxy of <Swi...\n",
       "5   <openeye.oechem.OEMatchBaseIter; proxy of <Swi...\n",
       "6   <openeye.oechem.OEMatchBaseIter; proxy of <Swi...\n",
       "7   <openeye.oechem.OEMatchBaseIter; proxy of <Swi...\n",
       "8   <openeye.oechem.OEMatchBaseIter; proxy of <Swi...\n",
       "9   <openeye.oechem.OEMatchBaseIter; proxy of <Swi...\n",
       "10  <openeye.oechem.OEMatchBaseIter; proxy of <Swi...\n",
       "11  <openeye.oechem.OEMatchBaseIter; proxy of <Swi..."
      ]
     },
     "execution_count": 6,
     "metadata": {},
     "output_type": "execute_result"
    }
   ],
   "source": [
    "data = data.drop(\"Molecule\", 1)\n",
    "data"
   ]
  },
  {
   "cell_type": "code",
   "execution_count": 12,
   "metadata": {
    "collapsed": false
   },
   "outputs": [],
   "source": [
    "def DepictMoleculesWithSubstructureMatches(molecule,smile = \"c1ccccc1\" ):\n",
    "    width, height = 400.0, 400.0\n",
    "    opts = OE2DMolDisplayOptions(width, height, OEScale_AutoScale)\n",
    "    image = OEImage(width, height)\n",
    "    colors = OEGetContrastColors()\n",
    "    highlight = OEHighlightOverlayByBallAndStick(colors)\n",
    "    borderpen = OEPen(OEWhite, OELightGrey, OEFill_Off, 1.0)\n",
    "    mol = GetOEGraphMol(molecule)\n",
    "    OEPrepareDepiction(mol)\n",
    "    ss = OESubSearch(smile)\n",
    "    disp = OE2DMolDisplay(mol, opts)\n",
    "    OEAddHighlightOverlay(disp, highlight, ss.Match(mol, True))\n",
    "    OERenderMolecule(image, disp)\n",
    "    OEDrawBorder(image, borderpen)\n",
    "    display(oenb.draw_oeimage(image))\n",
    "    return 0"
   ]
  },
  {
   "cell_type": "code",
   "execution_count": 13,
   "metadata": {
    "collapsed": false
   },
   "outputs": [
    {
     "ename": "NameError",
     "evalue": "(\"name 'GetOEGraphMol' is not defined\", 'occurred at index Sub Structure Search Hits')",
     "output_type": "error",
     "traceback": [
      "\u001b[0;31m---------------------------------------------------------------------------\u001b[0m",
      "\u001b[0;31mNameError\u001b[0m                                 Traceback (most recent call last)",
      "\u001b[0;32m<ipython-input-13-fef3f14be9c1>\u001b[0m in \u001b[0;36m<module>\u001b[0;34m()\u001b[0m\n\u001b[0;32m----> 1\u001b[0;31m \u001b[0mdata\u001b[0m\u001b[0;34m[\u001b[0m\u001b[0;34m\"Molecule Highlights\"\u001b[0m\u001b[0;34m]\u001b[0m \u001b[0;34m=\u001b[0m \u001b[0mdata\u001b[0m\u001b[0;34m.\u001b[0m\u001b[0mapply\u001b[0m\u001b[0;34m(\u001b[0m\u001b[0mDepictMoleculesWithSubstructureMatches\u001b[0m\u001b[0;34m)\u001b[0m\u001b[0;34m\u001b[0m\u001b[0m\n\u001b[0m\u001b[1;32m      2\u001b[0m \u001b[0moenb\u001b[0m\u001b[0;34m.\u001b[0m\u001b[0mrender_dataframe\u001b[0m\u001b[0;34m(\u001b[0m\u001b[0mdata\u001b[0m\u001b[0;34m)\u001b[0m\u001b[0;34m\u001b[0m\u001b[0m\n",
      "\u001b[0;32m/Users/dariabalatsky/anaconda/envs/py34/lib/python3.4/site-packages/pandas/core/frame.py\u001b[0m in \u001b[0;36mapply\u001b[0;34m(self, func, axis, broadcast, raw, reduce, args, **kwds)\u001b[0m\n\u001b[1;32m   4059\u001b[0m                     \u001b[0;32mif\u001b[0m \u001b[0mreduce\u001b[0m \u001b[0;32mis\u001b[0m \u001b[0;32mNone\u001b[0m\u001b[0;34m:\u001b[0m\u001b[0;34m\u001b[0m\u001b[0m\n\u001b[1;32m   4060\u001b[0m                         \u001b[0mreduce\u001b[0m \u001b[0;34m=\u001b[0m \u001b[0;32mTrue\u001b[0m\u001b[0;34m\u001b[0m\u001b[0m\n\u001b[0;32m-> 4061\u001b[0;31m                     \u001b[0;32mreturn\u001b[0m \u001b[0mself\u001b[0m\u001b[0;34m.\u001b[0m\u001b[0m_apply_standard\u001b[0m\u001b[0;34m(\u001b[0m\u001b[0mf\u001b[0m\u001b[0;34m,\u001b[0m \u001b[0maxis\u001b[0m\u001b[0;34m,\u001b[0m \u001b[0mreduce\u001b[0m\u001b[0;34m=\u001b[0m\u001b[0mreduce\u001b[0m\u001b[0;34m)\u001b[0m\u001b[0;34m\u001b[0m\u001b[0m\n\u001b[0m\u001b[1;32m   4062\u001b[0m             \u001b[0;32melse\u001b[0m\u001b[0;34m:\u001b[0m\u001b[0;34m\u001b[0m\u001b[0m\n\u001b[1;32m   4063\u001b[0m                 \u001b[0;32mreturn\u001b[0m \u001b[0mself\u001b[0m\u001b[0;34m.\u001b[0m\u001b[0m_apply_broadcast\u001b[0m\u001b[0;34m(\u001b[0m\u001b[0mf\u001b[0m\u001b[0;34m,\u001b[0m \u001b[0maxis\u001b[0m\u001b[0;34m)\u001b[0m\u001b[0;34m\u001b[0m\u001b[0m\n",
      "\u001b[0;32m/Users/dariabalatsky/anaconda/envs/py34/lib/python3.4/site-packages/pandas/core/frame.py\u001b[0m in \u001b[0;36m_apply_standard\u001b[0;34m(self, func, axis, ignore_failures, reduce)\u001b[0m\n\u001b[1;32m   4155\u001b[0m             \u001b[0;32mtry\u001b[0m\u001b[0;34m:\u001b[0m\u001b[0;34m\u001b[0m\u001b[0m\n\u001b[1;32m   4156\u001b[0m                 \u001b[0;32mfor\u001b[0m \u001b[0mi\u001b[0m\u001b[0;34m,\u001b[0m \u001b[0mv\u001b[0m \u001b[0;32min\u001b[0m \u001b[0menumerate\u001b[0m\u001b[0;34m(\u001b[0m\u001b[0mseries_gen\u001b[0m\u001b[0;34m)\u001b[0m\u001b[0;34m:\u001b[0m\u001b[0;34m\u001b[0m\u001b[0m\n\u001b[0;32m-> 4157\u001b[0;31m                     \u001b[0mresults\u001b[0m\u001b[0;34m[\u001b[0m\u001b[0mi\u001b[0m\u001b[0;34m]\u001b[0m \u001b[0;34m=\u001b[0m \u001b[0mfunc\u001b[0m\u001b[0;34m(\u001b[0m\u001b[0mv\u001b[0m\u001b[0;34m)\u001b[0m\u001b[0;34m\u001b[0m\u001b[0m\n\u001b[0m\u001b[1;32m   4158\u001b[0m                     \u001b[0mkeys\u001b[0m\u001b[0;34m.\u001b[0m\u001b[0mappend\u001b[0m\u001b[0;34m(\u001b[0m\u001b[0mv\u001b[0m\u001b[0;34m.\u001b[0m\u001b[0mname\u001b[0m\u001b[0;34m)\u001b[0m\u001b[0;34m\u001b[0m\u001b[0m\n\u001b[1;32m   4159\u001b[0m             \u001b[0;32mexcept\u001b[0m \u001b[0mException\u001b[0m \u001b[0;32mas\u001b[0m \u001b[0me\u001b[0m\u001b[0;34m:\u001b[0m\u001b[0;34m\u001b[0m\u001b[0m\n",
      "\u001b[0;32m<ipython-input-12-74646108bc25>\u001b[0m in \u001b[0;36mDepictMoleculesWithSubstructureMatches\u001b[0;34m(molecule, smile)\u001b[0m\n\u001b[1;32m      6\u001b[0m     \u001b[0mhighlight\u001b[0m \u001b[0;34m=\u001b[0m \u001b[0mOEHighlightOverlayByBallAndStick\u001b[0m\u001b[0;34m(\u001b[0m\u001b[0mcolors\u001b[0m\u001b[0;34m)\u001b[0m\u001b[0;34m\u001b[0m\u001b[0m\n\u001b[1;32m      7\u001b[0m     \u001b[0mborderpen\u001b[0m \u001b[0;34m=\u001b[0m \u001b[0mOEPen\u001b[0m\u001b[0;34m(\u001b[0m\u001b[0mOEWhite\u001b[0m\u001b[0;34m,\u001b[0m \u001b[0mOELightGrey\u001b[0m\u001b[0;34m,\u001b[0m \u001b[0mOEFill_Off\u001b[0m\u001b[0;34m,\u001b[0m \u001b[0;36m1.0\u001b[0m\u001b[0;34m)\u001b[0m\u001b[0;34m\u001b[0m\u001b[0m\n\u001b[0;32m----> 8\u001b[0;31m     \u001b[0mmol\u001b[0m \u001b[0;34m=\u001b[0m \u001b[0mGetOEGraphMol\u001b[0m\u001b[0;34m(\u001b[0m\u001b[0mmolecule\u001b[0m\u001b[0;34m)\u001b[0m\u001b[0;34m\u001b[0m\u001b[0m\n\u001b[0m\u001b[1;32m      9\u001b[0m     \u001b[0mOEPrepareDepiction\u001b[0m\u001b[0;34m(\u001b[0m\u001b[0mmol\u001b[0m\u001b[0;34m)\u001b[0m\u001b[0;34m\u001b[0m\u001b[0m\n\u001b[1;32m     10\u001b[0m     \u001b[0mss\u001b[0m \u001b[0;34m=\u001b[0m \u001b[0mOESubSearch\u001b[0m\u001b[0;34m(\u001b[0m\u001b[0msmile\u001b[0m\u001b[0;34m)\u001b[0m\u001b[0;34m\u001b[0m\u001b[0m\n",
      "\u001b[0;31mNameError\u001b[0m: (\"name 'GetOEGraphMol' is not defined\", 'occurred at index Sub Structure Search Hits')"
     ]
    }
   ],
   "source": [
    "data[\"Molecule Highlights\"] = data.apply(DepictMoleculesWithSubstructureMatches)\n",
    "oenb.render_dataframe(data)"
   ]
  },
  {
   "cell_type": "markdown",
   "metadata": {},
   "source": [
    "### Substructure searching with pandas"
   ]
  },
  {
   "cell_type": "code",
   "execution_count": 24,
   "metadata": {
    "collapsed": false
   },
   "outputs": [
    {
     "name": "stderr",
     "output_type": "stream",
     "text": [
      "/Users/dariabalatsky/anaconda/envs/py34/lib/python3.4/site-packages/IPython/html.py:14: ShimWarning: The `IPython.html` package has been deprecated. You should import from `notebook` instead. `IPython.html.widgets` has moved to `ipywidgets`.\n",
      "  \"`IPython.html.widgets` has moved to `ipywidgets`.\", ShimWarning)\n"
     ]
    }
   ],
   "source": [
    "#calling the function with the widget\n",
    "from IPython.html import widgets\n",
    "from ipywidgets import interactive\n",
    "from IPython.display import Image, HTML, display"
   ]
  },
  {
   "cell_type": "code",
   "execution_count": 25,
   "metadata": {
    "collapsed": false,
    "scrolled": false
   },
   "outputs": [
    {
     "name": "stdout",
     "output_type": "stream",
     "text": [
      "Warning: Unknown file format set in input stream.\n",
      "Warning: Unable to open \"\" for reading molecules.\n",
      "Cannot open target input file!\n"
     ]
    }
   ],
   "source": [
    "w = interactive(MainSubstructure, file = widgets.Text(), smile = widgets.Text())\n",
    "display(w)"
   ]
  },
  {
   "cell_type": "code",
   "execution_count": null,
   "metadata": {
    "collapsed": true
   },
   "outputs": [],
   "source": []
  }
 ],
 "metadata": {
  "kernelspec": {
   "display_name": "Python 3",
   "language": "python",
   "name": "python3"
  },
  "language_info": {
   "codemirror_mode": {
    "name": "ipython",
    "version": 3
   },
   "file_extension": ".py",
   "mimetype": "text/x-python",
   "name": "python",
   "nbconvert_exporter": "python",
   "pygments_lexer": "ipython3",
   "version": "3.4.4"
  },
  "widgets": {
   "state": {},
   "version": "1.1.2"
  }
 },
 "nbformat": 4,
 "nbformat_minor": 0
}
