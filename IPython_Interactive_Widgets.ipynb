{
 "cells": [
  {
   "cell_type": "code",
   "execution_count": 1,
   "metadata": {
    "collapsed": false
   },
   "outputs": [
    {
     "name": "stderr",
     "output_type": "stream",
     "text": [
      "/Users/dariabalatsky/anaconda/envs/py27/lib/python2.7/site-packages/ipykernel/pylab/config.py:66: DeprecationWarning: metadata {'config': True} was set from the constructor.  Metadata should be set using the .tag() method, e.g., Int().tag(key1='value1', key2='value2')\n",
      "  inline backend.\"\"\"\n",
      "/Users/dariabalatsky/anaconda/envs/py27/lib/python2.7/site-packages/ipykernel/pylab/config.py:71: DeprecationWarning: metadata {'config': True} was set from the constructor.  Metadata should be set using the .tag() method, e.g., Int().tag(key1='value1', key2='value2')\n",
      "  'retina', 'jpeg', 'svg', 'pdf'.\"\"\")\n",
      "/Users/dariabalatsky/anaconda/envs/py27/lib/python2.7/site-packages/ipykernel/pylab/config.py:85: DeprecationWarning: metadata {'config': True} was set from the constructor.  Metadata should be set using the .tag() method, e.g., Int().tag(key1='value1', key2='value2')\n",
      "  use `figure_formats` instead)\"\"\")\n",
      "/Users/dariabalatsky/anaconda/envs/py27/lib/python2.7/site-packages/ipykernel/pylab/config.py:95: DeprecationWarning: metadata {'config': True} was set from the constructor.  Metadata should be set using the .tag() method, e.g., Int().tag(key1='value1', key2='value2')\n",
      "  \"\"\"\n",
      "/Users/dariabalatsky/anaconda/envs/py27/lib/python2.7/site-packages/ipykernel/pylab/config.py:114: DeprecationWarning: metadata {'config': True} was set from the constructor.  Metadata should be set using the .tag() method, e.g., Int().tag(key1='value1', key2='value2')\n",
      "  \"\"\")\n",
      "/Users/dariabalatsky/anaconda/envs/py27/lib/python2.7/site-packages/ipykernel/pylab/config.py:44: DeprecationWarning: InlineBackend._config_changed is deprecated: use @observe and @unobserve instead.\n",
      "  def _config_changed(self, name, old, new):\n",
      "/Users/dariabalatsky/anaconda/envs/py27/lib/python2.7/site-packages/traitlets/traitlets.py:770: DeprecationWarning: A parent of InlineBackend._config_changed has adopted the new @observe(change) API\n",
      "  clsname, change_or_name), DeprecationWarning)\n",
      "/Users/dariabalatsky/anaconda/envs/py27/lib/python2.7/site-packages/IPython/core/formatters.py:98: DeprecationWarning: DisplayFormatter._formatters_default is deprecated: use @default decorator instead.\n",
      "  def _formatters_default(self):\n",
      "/Users/dariabalatsky/anaconda/envs/py27/lib/python2.7/site-packages/IPython/core/formatters.py:677: DeprecationWarning: PlainTextFormatter._deferred_printers_default is deprecated: use @default decorator instead.\n",
      "  def _deferred_printers_default(self):\n",
      "/Users/dariabalatsky/anaconda/envs/py27/lib/python2.7/site-packages/IPython/core/formatters.py:669: DeprecationWarning: PlainTextFormatter._singleton_printers_default is deprecated: use @default decorator instead.\n",
      "  def _singleton_printers_default(self):\n",
      "/Users/dariabalatsky/anaconda/envs/py27/lib/python2.7/site-packages/IPython/core/formatters.py:672: DeprecationWarning: PlainTextFormatter._type_printers_default is deprecated: use @default decorator instead.\n",
      "  def _type_printers_default(self):\n",
      "/Users/dariabalatsky/anaconda/envs/py27/lib/python2.7/site-packages/IPython/core/formatters.py:672: DeprecationWarning: PlainTextFormatter._type_printers_default is deprecated: use @default decorator instead.\n",
      "  def _type_printers_default(self):\n",
      "/Users/dariabalatsky/anaconda/envs/py27/lib/python2.7/site-packages/IPython/core/formatters.py:677: DeprecationWarning: PlainTextFormatter._deferred_printers_default is deprecated: use @default decorator instead.\n",
      "  def _deferred_printers_default(self):\n"
     ]
    }
   ],
   "source": [
    "from __future__ import print_function, division\n",
    "\n",
    "from pprint import pprint\n",
    "\n",
    "import numpy as np\n",
    "import pandas as pd\n",
    "import scipy as sp\n",
    "\n",
    "import matplotlib.pyplot as plt\n",
    "\n",
    "import seaborn\n",
    "\n",
    "from openeye.oechem import *\n",
    "from openeye.oegraphsim import *\n",
    "from openeye.oemolprop import *\n",
    "from openeye.oedepict import *\n",
    "\n",
    "import sys\n",
    "\n",
    "import mpld3\n",
    "%matplotlib inline\n",
    "mpld3.enable_notebook()\n",
    "seaborn.set_context(\"poster\")\n",
    "\n",
    "import oenotebook as oenb"
   ]
  },
  {
   "cell_type": "code",
   "execution_count": 2,
   "metadata": {
    "collapsed": false
   },
   "outputs": [
    {
     "name": "stderr",
     "output_type": "stream",
     "text": [
      "/Users/dariabalatsky/anaconda/envs/py27/lib/python2.7/site-packages/IPython/html.py:14: ShimWarning: The `IPython.html` package has been deprecated. You should import from `notebook` instead. `IPython.html.widgets` has moved to `ipywidgets`.\n",
      "  \"`IPython.html.widgets` has moved to `ipywidgets`.\", ShimWarning)\n"
     ]
    }
   ],
   "source": [
    "from IPython.html.widgets import interact\n",
    "\n",
    "from IPython.display import Image, HTML, display"
   ]
  },
  {
   "cell_type": "code",
   "execution_count": 3,
   "metadata": {
    "collapsed": false
   },
   "outputs": [
    {
     "name": "stderr",
     "output_type": "stream",
     "text": [
      "/Users/dariabalatsky/anaconda/envs/py27/lib/python2.7/site-packages/IPython/core/formatters.py:669: DeprecationWarning: PlainTextFormatter._singleton_printers_default is deprecated: use @default decorator instead.\n",
      "  def _singleton_printers_default(self):\n"
     ]
    },
    {
     "data": {
      "image/png": "[encoded data removed]",
      "text/html": [
       "\n",
       "\n",
       "<style>\n",
       "\n",
       "</style>\n",
       "\n",
       "<div id=\"fig_el1338246205861923632305354\"></div>\n",
       "<script>\n",
       "function mpld3_load_lib(url, callback){\n",
       "  var s = document.createElement('script');\n",
       "  s.src = url;\n",
       "  s.async = true;\n",
       "  s.onreadystatechange = s.onload = callback;\n",
       "  s.onerror = function(){console.warn(\"failed to load library \" + url);};\n",
       "  document.getElementsByTagName(\"head\")[0].appendChild(s);\n",
       "}\n",
       "\n",
       "if(typeof(mpld3) !== \"undefined\" && mpld3._mpld3IsLoaded){\n",
       "   // already loaded: just create the figure\n",
       "   !function(mpld3){\n",
       "       \n",
       "       mpld3.draw_figure(\"fig_el1338246205861923632305354\", {\"axes\": [{\"xlim\": [-0.5, 9.5], \"yscale\": \"linear\", \"axesbg\": \"#EAEAF2\", \"texts\": [], \"zoomable\": true, \"images\": [{\"coordinates\": \"data\", \"zorder\": 0, \"extent\": [-0.5, 9.5, 0.5, -0.5], \"alpha\": null, \"data\": \"iVBORw0KGgoAAAANSUhEUgAAAm0AAAA/CAYAAACy0v9rAAAABHNCSVQICAgIfAhkiAAAAWJJREFUeJzt1rENAzEMALF8SnsL77/jZ4SUxkHkBBKk4p5zzvsZaK11e4Qrpu699749whXuPc/Um0/de+qvT7339/YAAAD8J9oAAAJEGwBAgGgDAAgQbQAAAaINACBAtAEABIg2AIAA0QYAECDaAAACRBsAQIBoAwAIEG0AAAGiDQAgQLQBAASINgCAANEGABAg2gAAAkQbAECAaAMACBBtAAABog0AIEC0AQAEiDYAgADRBgAQINoAAAJEGwBAgGgDAAgQbQAAAaINACBAtAEABIg2AIAA0QYAECDaAAACRBsAQIBoAwAIEG0AAAGiDQAgQLQBAASINgCAANEGABAg2gAAAkQbAECAaAMACBBtAAABog0AIEC0AQAEiDYAgADRBgAQINoAAAJEGwBAgGgDAAgQbQAAAaINACBAtAEABIg2AIAA0QYAECDaAAACRBsAQIBoAwAIEG0AAAGiDQAg4Ac+jwL6gn8HtQAAAABJRU5ErkJggg==\", \"id\": \"el133824658984400\"}], \"xdomain\": [-0.5, 9.5], \"ylim\": [0.5, -0.5], \"paths\": [], \"sharey\": [], \"sharex\": [], \"axesbgalpha\": null, \"axes\": [{\"scale\": \"linear\", \"tickformat\": null, \"grid\": {\"color\": \"#FFFFFF\", \"alpha\": 1.0, \"dasharray\": \"10,0\", \"gridOn\": true}, \"fontsize\": 16.0, \"position\": \"bottom\", \"nticks\": 10, \"tickvalues\": [-0.5, 0.5, 1.5, 2.5, 3.5, 4.5, 5.5, 6.5, 7.5, 8.5]}, {\"scale\": \"linear\", \"tickformat\": null, \"grid\": {\"color\": \"#FFFFFF\", \"alpha\": 1.0, \"dasharray\": \"10,0\", \"gridOn\": true}, \"fontsize\": 16.0, \"position\": \"left\", \"nticks\": 2, \"tickvalues\": [-0.5, 0.5]}], \"lines\": [], \"markers\": [], \"id\": \"el133824620720528\", \"ydomain\": [0.5, -0.5], \"collections\": [], \"xscale\": \"linear\", \"bbox\": [0.125, 0.125, 0.77500000000000002, 0.77500000000000002]}], \"height\": 80.0, \"width\": 800.0, \"plugins\": [{\"type\": \"reset\"}, {\"enabled\": false, \"button\": true, \"type\": \"zoom\"}, {\"enabled\": false, \"button\": true, \"type\": \"boxzoom\"}], \"data\": {}, \"id\": \"el133824620586192\"});\n",
       "   }(mpld3);\n",
       "}else if(typeof define === \"function\" && define.amd){\n",
       "   // require.js is available: use it to load d3/mpld3\n",
       "   require.config({paths: {d3: \"https://mpld3.github.io/js/d3.v3.min\"}});\n",
       "   require([\"d3\"], function(d3){\n",
       "      window.d3 = d3;\n",
       "      mpld3_load_lib(\"https://mpld3.github.io/js/mpld3.v0.2.js\", function(){\n",
       "         \n",
       "         mpld3.draw_figure(\"fig_el1338246205861923632305354\", {\"axes\": [{\"xlim\": [-0.5, 9.5], \"yscale\": \"linear\", \"axesbg\": \"#EAEAF2\", \"texts\": [], \"zoomable\": true, \"images\": [{\"coordinates\": \"data\", \"zorder\": 0, \"extent\": [-0.5, 9.5, 0.5, -0.5], \"alpha\": null, \"data\": \"iVBORw0KGgoAAAANSUhEUgAAAm0AAAA/CAYAAACy0v9rAAAABHNCSVQICAgIfAhkiAAAAWJJREFUeJzt1rENAzEMALF8SnsL77/jZ4SUxkHkBBKk4p5zzvsZaK11e4Qrpu699749whXuPc/Um0/de+qvT7339/YAAAD8J9oAAAJEGwBAgGgDAAgQbQAAAaINACBAtAEABIg2AIAA0QYAECDaAAACRBsAQIBoAwAIEG0AAAGiDQAgQLQBAASINgCAANEGABAg2gAAAkQbAECAaAMACBBtAAABog0AIEC0AQAEiDYAgADRBgAQINoAAAJEGwBAgGgDAAgQbQAAAaINACBAtAEABIg2AIAA0QYAECDaAAACRBsAQIBoAwAIEG0AAAGiDQAgQLQBAASINgCAANEGABAg2gAAAkQbAECAaAMACBBtAAABog0AIEC0AQAEiDYAgADRBgAQINoAAAJEGwBAgGgDAAgQbQAAAaINACBAtAEABIg2AIAA0QYAECDaAAACRBsAQIBoAwAIEG0AAAGiDQAg4Ac+jwL6gn8HtQAAAABJRU5ErkJggg==\", \"id\": \"el133824658984400\"}], \"xdomain\": [-0.5, 9.5], \"ylim\": [0.5, -0.5], \"paths\": [], \"sharey\": [], \"sharex\": [], \"axesbgalpha\": null, \"axes\": [{\"scale\": \"linear\", \"tickformat\": null, \"grid\": {\"color\": \"#FFFFFF\", \"alpha\": 1.0, \"dasharray\": \"10,0\", \"gridOn\": true}, \"fontsize\": 16.0, \"position\": \"bottom\", \"nticks\": 10, \"tickvalues\": [-0.5, 0.5, 1.5, 2.5, 3.5, 4.5, 5.5, 6.5, 7.5, 8.5]}, {\"scale\": \"linear\", \"tickformat\": null, \"grid\": {\"color\": \"#FFFFFF\", \"alpha\": 1.0, \"dasharray\": \"10,0\", \"gridOn\": true}, \"fontsize\": 16.0, \"position\": \"left\", \"nticks\": 2, \"tickvalues\": [-0.5, 0.5]}], \"lines\": [], \"markers\": [], \"id\": \"el133824620720528\", \"ydomain\": [0.5, -0.5], \"collections\": [], \"xscale\": \"linear\", \"bbox\": [0.125, 0.125, 0.77500000000000002, 0.77500000000000002]}], \"height\": 80.0, \"width\": 800.0, \"plugins\": [{\"type\": \"reset\"}, {\"enabled\": false, \"button\": true, \"type\": \"zoom\"}, {\"enabled\": false, \"button\": true, \"type\": \"boxzoom\"}], \"data\": {}, \"id\": \"el133824620586192\"});\n",
       "      });\n",
       "    });\n",
       "}else{\n",
       "    // require.js not available: dynamically load d3 & mpld3\n",
       "    mpld3_load_lib(\"https://mpld3.github.io/js/d3.v3.min.js\", function(){\n",
       "         mpld3_load_lib(\"https://mpld3.github.io/js/mpld3.v0.2.js\", function(){\n",
       "                 \n",
       "                 mpld3.draw_figure(\"fig_el1338246205861923632305354\", {\"axes\": [{\"xlim\": [-0.5, 9.5], \"yscale\": \"linear\", \"axesbg\": \"#EAEAF2\", \"texts\": [], \"zoomable\": true, \"images\": [{\"coordinates\": \"data\", \"zorder\": 0, \"extent\": [-0.5, 9.5, 0.5, -0.5], \"alpha\": null, \"data\": \"iVBORw0KGgoAAAANSUhEUgAAAm0AAAA/CAYAAACy0v9rAAAABHNCSVQICAgIfAhkiAAAAWJJREFUeJzt1rENAzEMALF8SnsL77/jZ4SUxkHkBBKk4p5zzvsZaK11e4Qrpu699749whXuPc/Um0/de+qvT7339/YAAAD8J9oAAAJEGwBAgGgDAAgQbQAAAaINACBAtAEABIg2AIAA0QYAECDaAAACRBsAQIBoAwAIEG0AAAGiDQAgQLQBAASINgCAANEGABAg2gAAAkQbAECAaAMACBBtAAABog0AIEC0AQAEiDYAgADRBgAQINoAAAJEGwBAgGgDAAgQbQAAAaINACBAtAEABIg2AIAA0QYAECDaAAACRBsAQIBoAwAIEG0AAAGiDQAgQLQBAASINgCAANEGABAg2gAAAkQbAECAaAMACBBtAAABog0AIEC0AQAEiDYAgADRBgAQINoAAAJEGwBAgGgDAAgQbQAAAaINACBAtAEABIg2AIAA0QYAECDaAAACRBsAQIBoAwAIEG0AAAGiDQAg4Ac+jwL6gn8HtQAAAABJRU5ErkJggg==\", \"id\": \"el133824658984400\"}], \"xdomain\": [-0.5, 9.5], \"ylim\": [0.5, -0.5], \"paths\": [], \"sharey\": [], \"sharex\": [], \"axesbgalpha\": null, \"axes\": [{\"scale\": \"linear\", \"tickformat\": null, \"grid\": {\"color\": \"#FFFFFF\", \"alpha\": 1.0, \"dasharray\": \"10,0\", \"gridOn\": true}, \"fontsize\": 16.0, \"position\": \"bottom\", \"nticks\": 10, \"tickvalues\": [-0.5, 0.5, 1.5, 2.5, 3.5, 4.5, 5.5, 6.5, 7.5, 8.5]}, {\"scale\": \"linear\", \"tickformat\": null, \"grid\": {\"color\": \"#FFFFFF\", \"alpha\": 1.0, \"dasharray\": \"10,0\", \"gridOn\": true}, \"fontsize\": 16.0, \"position\": \"left\", \"nticks\": 2, \"tickvalues\": [-0.5, 0.5]}], \"lines\": [], \"markers\": [], \"id\": \"el133824620720528\", \"ydomain\": [0.5, -0.5], \"collections\": [], \"xscale\": \"linear\", \"bbox\": [0.125, 0.125, 0.77500000000000002, 0.77500000000000002]}], \"height\": 80.0, \"width\": 800.0, \"plugins\": [{\"type\": \"reset\"}, {\"enabled\": false, \"button\": true, \"type\": \"zoom\"}, {\"enabled\": false, \"button\": true, \"type\": \"boxzoom\"}], \"data\": {}, \"id\": \"el133824620586192\"});\n",
       "            })\n",
       "         });\n",
       "}\n",
       "</script>"
      ],
      "text/plain": [
       "<matplotlib.figure.Figure at 0x113688cd0>"
      ]
     },
     "metadata": {},
     "output_type": "display_data"
    }
   ],
   "source": [
    "@interact\n",
    "def choose_dark_palette(r=(0.,1),g=(0.,1.),b=(0.,1.),n=(3,18)):\n",
    "    pal = seaborn.dark_palette((r,g,b),n)\n",
    "    seaborn.palplot(pal)"
   ]
  },
  {
   "cell_type": "code",
   "execution_count": 4,
   "metadata": {
    "collapsed": false
   },
   "outputs": [
    {
     "data": {
      "image/png": "[encoded data removed]",
      "text/plain": [
       "<IPython.core.display.Image object>"
      ]
     },
     "metadata": {},
     "output_type": "display_data"
    }
   ],
   "source": [
    "@interact\n",
    "def choose_highlight_options(style=['Stick',\"BallAndStick\",\"Cogwheel\"],r=(0,255),g=(0,255),b=(0,255),stickWidth=(0.,8.),ballRadius=(0.,8.),lineWidth=(0.,8.)):\n",
    "    mol = OEGraphMol()\n",
    "    OESmilesToMol(mol, \"[H]/N=C(\\N)/SCCOc1c(c2ccccc2c(=O)o1)Cl\")\n",
    "    opts = OE2DMolDisplayOptions(400.0, 300.0, OEScale_AutoScale)\n",
    "    OEPrepareDepiction(mol)\n",
    "\n",
    "    image = OEImage(opts.GetWidth(), opts.GetHeight())\n",
    "\n",
    "    OEPrepareDepiction(mol)\n",
    "\n",
    "    subs = OESubSearch(\"[cH]c[c]\")\n",
    "    disp = OE2DMolDisplay(mol,opts)\n",
    "\n",
    "    stickWidthScale = 6.0\n",
    "    monochrome = True\n",
    "    innerContour = False\n",
    "    if style == \"Stick\":\n",
    "        highlight = OEHighlightByStick(OEColor(r,g,b), stickWidth, monochrome)\n",
    "    elif style == \"BallAndStick\":\n",
    "        highlight = OEHighlightByBallAndStick(OEColor(r,g,b), stickWidth, ballRadius, monochrome)\n",
    "    elif style == \"Cogwheel\":\n",
    "        highlight = OEHighlightByCogwheel(OEColor(r,g,b), lineWidth, stickWidth, ballRadius, innerContour, monochrome)\n",
    "    \n",
    "    unique = True\n",
    "    for match in subs.Match(mol, unique):\n",
    "        OEAddHighlighting(disp, highlight, match)\n",
    "\n",
    "    OERenderMolecule(image,disp)\n",
    "    \n",
    "    OEDrawBorder(image, OEPen(OELightGrey, OELightGrey, OEFill_Off, 2.0))\n",
    "    \n",
    "    display(Image(OEWriteImageToString(\"png\", image)))"
   ]
  },
  {
   "cell_type": "code",
   "execution_count": null,
   "metadata": {
    "collapsed": false
   },
   "outputs": [],
   "source": []
  },
  {
   "cell_type": "code",
   "execution_count": null,
   "metadata": {
    "collapsed": false
   },
   "outputs": [],
   "source": []
  }
 ],
 "metadata": {
  "kernelspec": {
   "display_name": "Python 2",
   "language": "python",
   "name": "python2"
  },
  "language_info": {
   "codemirror_mode": {
    "name": "ipython",
    "version": 2
   },
   "file_extension": ".py",
   "mimetype": "text/x-python",
   "name": "python",
   "nbconvert_exporter": "python",
   "pygments_lexer": "ipython2",
   "version": "2.7.11"
  },
  "widgets": {
   "state": {
    "07a63e899ef64ef28afbe13fc20e4729": {
     "views": []
    },
    "0b3b21a40e8b4789939e73618f702a64": {
     "views": []
    },
    "140ab2893a52428b8b78f213bf441297": {
     "views": []
    },
    "17083a1c2499495fac9b224fe441c496": {
     "views": [
      {
       "cell_index": 2
      }
     ]
    },
    "1978ecc5f884457482ae4d7bd81c43b5": {
     "views": []
    },
    "1c29ce101ba045f0ab5091ea9d5876da": {
     "views": []
    },
    "2d11879ad54a4f4283e779cdea8f8355": {
     "views": []
    },
    "3481e227cf05474a86e9187697220a82": {
     "views": []
    },
    "366c8176e03046e7ba18f521a6696004": {
     "views": []
    },
    "37beee6b440f44bab5206ca78907277c": {
     "views": [
      {
       "cell_index": 3
      }
     ]
    },
    "3f562f7a03e34a1ea46ddcaa627ac32e": {
     "views": []
    },
    "4a568c20fb9c41b9a9e3da231f94028b": {
     "views": []
    },
    "4c49140cfd874851a4d9509c74e9110a": {
     "views": []
    },
    "7232586935744328a72dda82f2a20880": {
     "views": []
    },
    "7beb0ea682db4f01834c51d3f9fa8200": {
     "views": []
    },
    "97bc2de7ab0a45008217985eaf232773": {
     "views": []
    },
    "ba56cf949f3340049147ed6a23d92946": {
     "views": []
    },
    "c0f706238e6046f992050a05b3f8a8cb": {
     "views": []
    },
    "c832a1716204483d9054219dbbbac34e": {
     "views": []
    },
    "c835f9f8dd8e4b03a7d182577efbdae6": {
     "views": []
    },
    "ced94cdf91934d02988df6b16d6ee6f0": {
     "views": []
    },
    "d9762e43cac949d9ba0f51bee18b1261": {
     "views": []
    },
    "da6c4bccb1334e44add55322f8c77c13": {
     "views": []
    },
    "e0acb1691c24415baef801febaedcc19": {
     "views": []
    },
    "ead5dd66523847b18cc28bd2b7d89d5c": {
     "views": []
    },
    "f921db56dd4a4ed5a4e847bef427b4c7": {
     "views": []
    }
   },
   "version": "1.1.2"
  }
 },
 "nbformat": 4,
 "nbformat_minor": 0
}
